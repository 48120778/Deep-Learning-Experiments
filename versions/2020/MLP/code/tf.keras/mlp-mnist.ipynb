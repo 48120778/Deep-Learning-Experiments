{
 "cells": [
  {
   "cell_type": "markdown",
   "metadata": {},
   "source": [
    "## MLP network for MNIST digits classification\n",
    "In this example, we demonstrate how to build, train, and validate a model that classifies MNIST images.\n",
    "Let us load the dataset first."
   ]
  },
  {
   "cell_type": "code",
   "execution_count": 2,
   "metadata": {},
   "outputs": [],
   "source": [
    "from __future__ import absolute_import\n",
    "from __future__ import division\n",
    "from __future__ import print_function\n",
    "\n",
    "import numpy as np\n",
    "import tensorflow\n",
    "from tensorflow.keras.models import Sequential\n",
    "from tensorflow.keras.layers import Dense\n",
    "from tensorflow.keras.utils import to_categorical, plot_model\n",
    "from tensorflow.keras.datasets import mnist\n",
    "\n",
    "# load mnist dataset\n",
    "(x_train, y_train), (x_test, y_test) = mnist.load_data()\n",
    "\n",
    "# compute the number of labels\n",
    "num_labels = len(np.unique(y_train))"
   ]
  },
  {
   "cell_type": "markdown",
   "metadata": {},
   "source": [
    "## Pre-processing of data\n",
    "\n",
    "The raw dataset is not ideal for training a machine learning model. The images are still in raw grayscale format wherein each pixel is $\\epsilon [0,255]$. The labels are in raw digit format $\\epsilon [0,9]$. Both input and output data must be pre-processed first.\n",
    "\n",
    "### Convert raw labels into one-hot vector\n",
    "The labels are in raw digit format (e.g. 0,1, ...,9). It is not ideal for computing the $y=f(x)=p(y|x)$ which is a mulitnoulli or categorical distribution. Therefore, the labels are converted into one-hot vector using `tf.keras` `to_categorical()` utility function."
   ]
  },
  {
   "cell_type": "code",
   "execution_count": 3,
   "metadata": {},
   "outputs": [],
   "source": [
    "# convert to one-hot vector\n",
    "# e.g. 3 -> [0 0 0 1 0 0 0 0 0 0]\n",
    "y_train = to_categorical(y_train)\n",
    "y_test = to_categorical(y_test)"
   ]
  },
  {
   "cell_type": "markdown",
   "metadata": {},
   "source": [
    "### Normalizing the pixel values\n",
    "The pixel values (e.g. 0 to 255) is normalized to $[0.0, 1.0]$ so that the network can be easily trained. In other words, no wild fluctuations in weights in biases."
   ]
  },
  {
   "cell_type": "code",
   "execution_count": 4,
   "metadata": {},
   "outputs": [],
   "source": [
    "# image dimensions (assumed square)\n",
    "image_size = x_train.shape[1]\n",
    "input_size = image_size * image_size\n",
    "\n",
    "# resize and normalize\n",
    "x_train = np.reshape(x_train, [-1, input_size])\n",
    "x_train = x_train.astype('float32') / 255\n",
    "x_test = np.reshape(x_test, [-1, input_size])\n",
    "x_test = x_test.astype('float32') / 255"
   ]
  },
  {
   "cell_type": "markdown",
   "metadata": {},
   "source": [
    "### Hyper-parameters\n",
    "A typical network has many hyper-parameters that we can tune.\n",
    "\n",
    "`batch_size` is the number of samples used per SGD. There is no right value of `batch_size`. Usually, it ranges in the multiples of 2 (e.g 2, 4, 8, 16, 32, 64, 128, 256). The lower the `batch_size`, the more steps in SGD. Also, the less accurate is the estimate of the true gradient. The higher the value of `batch_size`, the less number of steps in SGD. The network might not be completely trained after the number of epochs indicated. High value leads to a better gradient estimate. This tradeoff let us choose a value of `128`. \n",
    "\n",
    "When processing huge data like big image sizes, the batch size is limited by the GPU memory of your PC.\n",
    "\n",
    "One `epoch` means we have completed one training using the entire dataset. An `epoch` is equal to `len(x_train)/batch_size`.\n",
    "\n",
    "`n_units` is simply the number of units of each MLP layer. For this example, we use a uniform number. However, this can have different numbers. In encoders, this number usually decreases with depth. In decoders, it is the reverse."
   ]
  },
  {
   "cell_type": "code",
   "execution_count": 7,
   "metadata": {},
   "outputs": [],
   "source": [
    "# hyper-parameters\n",
    "batch_size = 128\n",
    "n_units = 256\n",
    "epochs = 20"
   ]
  },
  {
   "cell_type": "markdown",
   "metadata": {},
   "source": [
    "### Model building\n",
    "Let us build a 3-layer MLP. Each layer is a `Dense()` with `relu` activation. \n",
    "\n",
    "Since this is classifier, the last layer has number of units equal to the number of digit categories. The last layer uses a `softmax` activation to convert the prediction into probabilities. "
   ]
  },
  {
   "cell_type": "code",
   "execution_count": 12,
   "metadata": {},
   "outputs": [
    {
     "name": "stdout",
     "output_type": "stream",
     "text": [
      "Model: \"3-layer-MLP\"\n",
      "_________________________________________________________________\n",
      "Layer (type)                 Output Shape              Param #   \n",
      "=================================================================\n",
      "input_layer (Dense)          (None, 256)               200960    \n",
      "_________________________________________________________________\n",
      "hidden_layer (Dense)         (None, 256)               65792     \n",
      "_________________________________________________________________\n",
      "output_layer (Dense)         (None, 10)                2570      \n",
      "=================================================================\n",
      "Total params: 269,322\n",
      "Trainable params: 269,322\n",
      "Non-trainable params: 0\n",
      "_________________________________________________________________\n"
     ]
    }
   ],
   "source": [
    "# model is a 3-layer MLP\n",
    "model = Sequential(name='3-layer-MLP')\n",
    "model.add(Dense(n_units, input_dim=input_size, activation='relu', name='input_layer'))\n",
    "model.add(Dense(n_units, activation='relu', name='hidden_layer'))\n",
    "model.add(Dense(num_labels, activation='softmax', name='output_layer'))\n",
    "model.summary()\n"
   ]
  },
  {
   "cell_type": "markdown",
   "metadata": {},
   "source": [
    "## Training and evaluation (testing)\n",
    "\n",
    "Let's train the model using SGD and let's monitor one important metric in classification - `accuracy`. At every epoch, we conduct a validation in order to see if there is an improvement in test accuracy."
   ]
  },
  {
   "cell_type": "code",
   "execution_count": 14,
   "metadata": {},
   "outputs": [
    {
     "name": "stdout",
     "output_type": "stream",
     "text": [
      "Epoch 1/20\n",
      "469/469 [==============================] - 1s 3ms/step - loss: 1.2387 - accuracy: 0.6988 - val_loss: 0.5954 - val_accuracy: 0.8560\n",
      "Epoch 2/20\n",
      "469/469 [==============================] - 1s 3ms/step - loss: 0.4945 - accuracy: 0.8727 - val_loss: 0.4006 - val_accuracy: 0.8911\n",
      "Epoch 3/20\n",
      "469/469 [==============================] - 1s 2ms/step - loss: 0.3845 - accuracy: 0.8954 - val_loss: 0.3421 - val_accuracy: 0.9025\n",
      "Epoch 4/20\n",
      "469/469 [==============================] - 1s 3ms/step - loss: 0.3393 - accuracy: 0.9048 - val_loss: 0.3098 - val_accuracy: 0.9118\n",
      "Epoch 5/20\n",
      "469/469 [==============================] - 1s 2ms/step - loss: 0.3112 - accuracy: 0.9121 - val_loss: 0.2879 - val_accuracy: 0.9179\n",
      "Epoch 6/20\n",
      "469/469 [==============================] - 1s 2ms/step - loss: 0.2906 - accuracy: 0.9173 - val_loss: 0.2721 - val_accuracy: 0.9216\n",
      "Epoch 7/20\n",
      "469/469 [==============================] - 1s 2ms/step - loss: 0.2741 - accuracy: 0.9221 - val_loss: 0.2577 - val_accuracy: 0.9255\n",
      "Epoch 8/20\n",
      "469/469 [==============================] - 1s 2ms/step - loss: 0.2598 - accuracy: 0.9260 - val_loss: 0.2470 - val_accuracy: 0.9296\n",
      "Epoch 9/20\n",
      "469/469 [==============================] - 1s 3ms/step - loss: 0.2471 - accuracy: 0.9294 - val_loss: 0.2330 - val_accuracy: 0.9331\n",
      "Epoch 10/20\n",
      "469/469 [==============================] - 1s 3ms/step - loss: 0.2359 - accuracy: 0.9327 - val_loss: 0.2249 - val_accuracy: 0.9348\n",
      "Epoch 11/20\n",
      "469/469 [==============================] - 1s 2ms/step - loss: 0.2255 - accuracy: 0.9357 - val_loss: 0.2156 - val_accuracy: 0.9365\n",
      "Epoch 12/20\n",
      "469/469 [==============================] - 1s 2ms/step - loss: 0.2161 - accuracy: 0.9387 - val_loss: 0.2072 - val_accuracy: 0.9395\n",
      "Epoch 13/20\n",
      "469/469 [==============================] - 1s 3ms/step - loss: 0.2075 - accuracy: 0.9410 - val_loss: 0.1998 - val_accuracy: 0.9413\n",
      "Epoch 14/20\n",
      "469/469 [==============================] - 1s 3ms/step - loss: 0.1994 - accuracy: 0.9434 - val_loss: 0.1917 - val_accuracy: 0.9438\n",
      "Epoch 15/20\n",
      "469/469 [==============================] - 1s 2ms/step - loss: 0.1918 - accuracy: 0.9454 - val_loss: 0.1854 - val_accuracy: 0.9455\n",
      "Epoch 16/20\n",
      "469/469 [==============================] - 1s 2ms/step - loss: 0.1846 - accuracy: 0.9477 - val_loss: 0.1801 - val_accuracy: 0.9464\n",
      "Epoch 17/20\n",
      "469/469 [==============================] - 1s 2ms/step - loss: 0.1783 - accuracy: 0.9494 - val_loss: 0.1739 - val_accuracy: 0.9489\n",
      "Epoch 18/20\n",
      "469/469 [==============================] - 1s 2ms/step - loss: 0.1721 - accuracy: 0.9508 - val_loss: 0.1698 - val_accuracy: 0.9491\n",
      "Epoch 19/20\n",
      "469/469 [==============================] - 1s 3ms/step - loss: 0.1663 - accuracy: 0.9527 - val_loss: 0.1636 - val_accuracy: 0.9517\n",
      "Epoch 20/20\n",
      "469/469 [==============================] - 1s 3ms/step - loss: 0.1609 - accuracy: 0.9541 - val_loss: 0.1588 - val_accuracy: 0.9532\n",
      "\n",
      "Test accuracy: 95.3%\n"
     ]
    }
   ],
   "source": [
    "# loss function for one-hot vector\n",
    "# use of sgd optimizer with default lr=0.01\n",
    "# accuracy is a good metric for classification tasks\n",
    "model.compile(loss='categorical_crossentropy',\n",
    "              optimizer='sgd',\n",
    "              metrics=['accuracy'])\n",
    "# train the network\n",
    "history = model.fit(x_train, y_train, validation_data=(x_test, y_test), epochs=epochs, batch_size=batch_size)\n",
    "\n",
    "# validate the model on test dataset to determine generalization\n",
    "loss, acc = model.evaluate(x_test,\n",
    "                           y_test, \n",
    "                           batch_size=batch_size,\n",
    "                           verbose=False)\n",
    "print(\"\\nTest accuracy: %.1f%%\" % (100.0 * acc))"
   ]
  },
  {
   "cell_type": "markdown",
   "metadata": {},
   "source": [
    "### Examine the train history\n",
    "\n",
    "Let's examine how the loss (cross-entropy) improves with epochs. "
   ]
  },
  {
   "cell_type": "code",
   "execution_count": 20,
   "metadata": {},
   "outputs": [
    {
     "data": {
      "image/png": "[encoded data removed]",
      "text/plain": [
       "<Figure size 432x288 with 1 Axes>"
      ]
     },
     "metadata": {
      "needs_background": "light"
     },
     "output_type": "display_data"
    }
   ],
   "source": [
    "import matplotlib.pyplot as plt\n",
    "\n",
    "# Plot history: Loss and accuracy\n",
    "plt.plot(history.history['loss'], label='Train loss')\n",
    "plt.plot(history.history['val_loss'], label='Test loss')\n",
    "#plt.plot(history.history['val_acc'], label='Test accuracy')\n",
    "plt.title('Train and Test Loss')\n",
    "plt.ylabel('Cross-Entropy')\n",
    "plt.xlabel('Epochs')\n",
    "plt.legend(loc=\"upper right\")\n",
    "plt.show()"
   ]
  },
  {
   "cell_type": "markdown",
   "metadata": {},
   "source": [
    "## Train and test accuracy\n",
    "\n",
    "Ideally, as the train performance improves, the test accuracy improves. In general, this does not happen.\n",
    "\n",
    "There are situations when the train and accuracy both improve up to a certain only. Then, the test accuracy degrades while the train accuracy is still improving. This situation is called overfitting. The network is no longer learning but just memorizing the train data. "
   ]
  },
  {
   "cell_type": "code",
   "execution_count": 21,
   "metadata": {},
   "outputs": [
    {
     "data": {
      "image/png": "[encoded data removed]",
      "text/plain": [
       "<Figure size 432x288 with 1 Axes>"
      ]
     },
     "metadata": {
      "needs_background": "light"
     },
     "output_type": "display_data"
    }
   ],
   "source": [
    "# Plot history: Loss and accuracy\n",
    "plt.plot(history.history['accuracy'], label='Train accuracy')\n",
    "plt.plot(history.history['val_accuracy'], label='Test accuracy')\n",
    "#plt.plot(history.history['val_acc'], label='Test accuracy')\n",
    "plt.title('Train and Test Accuracy')\n",
    "plt.ylabel('Accuracy')\n",
    "plt.xlabel('Epochs')\n",
    "plt.legend(loc=\"lower right\")\n",
    "plt.show()"
   ]
  },
  {
   "cell_type": "code",
   "execution_count": null,
   "metadata": {},
   "outputs": [],
   "source": []
  }
 ],
 "metadata": {
  "kernelspec": {
   "display_name": "Python 3",
   "language": "python",
   "name": "python3"
  },
  "language_info": {
   "codemirror_mode": {
    "name": "ipython",
    "version": 3
   },
   "file_extension": ".py",
   "mimetype": "text/x-python",
   "name": "python",
   "nbconvert_exporter": "python",
   "pygments_lexer": "ipython3",
   "version": "3.7.4"
  }
 },
 "nbformat": 4,
 "nbformat_minor": 2
}
